{
 "cells": [
  {
   "cell_type": "code",
   "execution_count": 1,
   "metadata": {},
   "outputs": [],
   "source": [
    "import copy\n",
    "import math\n",
    "import random\n",
    "from abc import ABC, abstractmethod\n",
    "from string import ascii_lowercase, digits\n",
    "\n",
    "from gen_transform import gen_transform\n",
    "from loop_transform import loop_transform\n",
    "from loop_transform_copy import loop_transform_copy\n",
    "\n",
    "# flake8 swears that imported modules aren't used\n",
    "gen_transform\n",
    "loop_transform\n",
    "loop_transform_copy\n",
    "\n",
    "%load_ext memory_profiler"
   ]
  },
  {
   "cell_type": "markdown",
   "metadata": {},
   "source": [
    "## 1. Чтение/запись в словарь."
   ]
  },
  {
   "cell_type": "code",
   "execution_count": 2,
   "metadata": {},
   "outputs": [],
   "source": [
    "class AbstractDict(ABC):\n",
    "    @abstractmethod\n",
    "    def get(self):\n",
    "        ..."
   ]
  },
  {
   "cell_type": "code",
   "execution_count": 3,
   "metadata": {},
   "outputs": [],
   "source": [
    "class Benchmark_1:\n",
    "    def __init__(self, n_keys: int = 2**13):\n",
    "        '''\n",
    "        Creates sets of `n_keys` keys for futher benchmark runs.\n",
    "\n",
    "        There are keys from the dictionary and made up keys.\n",
    "        To make it more real existent keys appear 4 times more\n",
    "        often\n",
    "        '''\n",
    "        random.seed(42)\n",
    "        n_non_exst_keys = n_keys // 2**6\n",
    "        n_keys_from_dict = n_keys // 2**4\n",
    "\n",
    "        '''keys for storing in dict\n",
    "        `tuple` is used to keep keys between runs'''\n",
    "        self.keys = tuple(self._key_gen(n_keys))\n",
    "\n",
    "        '''keys to choose from for benchmarking `get` method\n",
    "        it includes some random keys from dict's actual keys and made up\n",
    "        ones ('__nnn__')'''\n",
    "        keys_to_check = tuple((random.choices(self.keys, k=n_keys_from_dict)\n",
    "                               + ['__nnn__']*n_non_exst_keys))\n",
    "\n",
    "        n_ops = n_keys * 2**4  # number of keys to get during benchmark\n",
    "        self.keys_to_check = tuple(random.choice(\n",
    "            keys_to_check) for i in range(n_ops))\n",
    "\n",
    "    def _key_gen(self, n_keys: int):\n",
    "        '''\n",
    "        Generates random keys from alphanumeric characters\n",
    "        with length from 0 to 10.\n",
    "        '''\n",
    "        keys_alphabet = ascii_lowercase + digits\n",
    "        for i in range(n_keys):\n",
    "            key_len = random.randint(0, 10)\n",
    "            key = ''.join(random.choices(keys_alphabet, k=key_len))\n",
    "            yield key\n",
    "\n",
    "    def __call__(self, D: AbstractDict):\n",
    "        d = D()\n",
    "        for key in self.keys:\n",
    "            d[key] = key\n",
    "\n",
    "        for key in self.keys_to_check:\n",
    "            d.get(key)"
   ]
  },
  {
   "cell_type": "code",
   "execution_count": 4,
   "metadata": {},
   "outputs": [],
   "source": [
    "benchmark_1 = Benchmark_1()"
   ]
  },
  {
   "cell_type": "markdown",
   "metadata": {},
   "source": [
    "### 1) Встроенный `dict`, использование `try/except`"
   ]
  },
  {
   "cell_type": "code",
   "execution_count": 5,
   "metadata": {},
   "outputs": [],
   "source": [
    "class Dict_1(dict, AbstractDict):\n",
    "    def get(self, key):\n",
    "        try:\n",
    "            return self[key]\n",
    "        except KeyError:\n",
    "            return None"
   ]
  },
  {
   "cell_type": "code",
   "execution_count": 6,
   "metadata": {},
   "outputs": [
    {
     "name": "stdout",
     "output_type": "stream",
     "text": [
      "38.7 ms ± 4.57 ms per loop (mean ± std. dev. of 7 runs, 10 loops each)\n"
     ]
    }
   ],
   "source": [
    "%timeit benchmark_1(Dict_1)"
   ]
  },
  {
   "cell_type": "code",
   "execution_count": 7,
   "metadata": {},
   "outputs": [
    {
     "name": "stdout",
     "output_type": "stream",
     "text": [
      " "
     ]
    },
    {
     "name": "stdout",
     "output_type": "stream",
     "text": [
      "         131076 function calls in 0.163 seconds\n",
      "\n",
      "   Ordered by: internal time\n",
      "\n",
      "   ncalls  tottime  percall  cumtime  percall filename:lineno(function)\n",
      "   131072    0.086    0.000    0.086    0.000 50095481.py:2(get)\n",
      "        1    0.077    0.077    0.163    0.163 1638636319.py:26(__call__)\n",
      "        1    0.000    0.000    0.163    0.163 <string>:1(<module>)\n",
      "        1    0.000    0.000    0.163    0.163 {built-in method builtins.exec}\n",
      "        1    0.000    0.000    0.000    0.000 {method 'disable' of '_lsprof.Profiler' objects}"
     ]
    }
   ],
   "source": [
    "%prun benchmark_1(Dict_1)"
   ]
  },
  {
   "cell_type": "code",
   "execution_count": 8,
   "metadata": {},
   "outputs": [
    {
     "name": "stdout",
     "output_type": "stream",
     "text": [
      "peak memory: 76.54 MiB, increment: 0.12 MiB\n"
     ]
    }
   ],
   "source": [
    "%memit benchmark_1(Dict_1)"
   ]
  },
  {
   "cell_type": "markdown",
   "metadata": {},
   "source": [
    "### 2) Встроенный `dict`, использование `if`"
   ]
  },
  {
   "cell_type": "code",
   "execution_count": 9,
   "metadata": {},
   "outputs": [],
   "source": [
    "class Dict_2(dict, AbstractDict):\n",
    "    def get(self, key):\n",
    "        if key in self:\n",
    "            return self[key]\n",
    "        return None"
   ]
  },
  {
   "cell_type": "markdown",
   "metadata": {},
   "source": [
    "*Если использовать условие проверки `key in self.keys()`, то время работы значительно увеличивается, т. к. на каждой итерации выполняется вызов функции `keys`"
   ]
  },
  {
   "cell_type": "code",
   "execution_count": 10,
   "metadata": {},
   "outputs": [
    {
     "name": "stdout",
     "output_type": "stream",
     "text": [
      "34.9 ms ± 3.69 ms per loop (mean ± std. dev. of 7 runs, 10 loops each)\n"
     ]
    }
   ],
   "source": [
    "%timeit benchmark_1(Dict_2)"
   ]
  },
  {
   "cell_type": "code",
   "execution_count": 11,
   "metadata": {},
   "outputs": [
    {
     "name": "stdout",
     "output_type": "stream",
     "text": [
      " "
     ]
    },
    {
     "name": "stdout",
     "output_type": "stream",
     "text": [
      "         131076 function calls in 0.135 seconds\n",
      "\n",
      "   Ordered by: internal time\n",
      "\n",
      "   ncalls  tottime  percall  cumtime  percall filename:lineno(function)\n",
      "        1    0.067    0.067    0.134    0.134 1638636319.py:26(__call__)\n",
      "   131072    0.067    0.000    0.067    0.000 2182802591.py:2(get)\n",
      "        1    0.000    0.000    0.135    0.135 <string>:1(<module>)\n",
      "        1    0.000    0.000    0.135    0.135 {built-in method builtins.exec}\n",
      "        1    0.000    0.000    0.000    0.000 {method 'disable' of '_lsprof.Profiler' objects}"
     ]
    }
   ],
   "source": [
    "%prun benchmark_1(Dict_2)"
   ]
  },
  {
   "cell_type": "markdown",
   "metadata": {},
   "source": [
    "### 3) Встроенный `dict`, использование метода `get`"
   ]
  },
  {
   "cell_type": "code",
   "execution_count": 12,
   "metadata": {},
   "outputs": [],
   "source": [
    "class Dict_3(dict, AbstractDict):\n",
    "    ..."
   ]
  },
  {
   "cell_type": "code",
   "execution_count": 13,
   "metadata": {},
   "outputs": [
    {
     "name": "stdout",
     "output_type": "stream",
     "text": [
      "14.3 ms ± 844 µs per loop (mean ± std. dev. of 7 runs, 100 loops each)\n"
     ]
    }
   ],
   "source": [
    "%timeit benchmark_1(Dict_3)"
   ]
  },
  {
   "cell_type": "code",
   "execution_count": 14,
   "metadata": {},
   "outputs": [
    {
     "name": "stdout",
     "output_type": "stream",
     "text": [
      " "
     ]
    },
    {
     "name": "stdout",
     "output_type": "stream",
     "text": [
      "         131076 function calls in 0.132 seconds\n",
      "\n",
      "   Ordered by: internal time\n",
      "\n",
      "   ncalls  tottime  percall  cumtime  percall filename:lineno(function)\n",
      "        1    0.083    0.083    0.132    0.132 1638636319.py:26(__call__)\n",
      "   131072    0.049    0.000    0.049    0.000 {method 'get' of 'dict' objects}\n",
      "        1    0.000    0.000    0.132    0.132 {built-in method builtins.exec}\n",
      "        1    0.000    0.000    0.132    0.132 <string>:1(<module>)\n",
      "        1    0.000    0.000    0.000    0.000 {method 'disable' of '_lsprof.Profiler' objects}"
     ]
    }
   ],
   "source": [
    "%prun benchmark_1(Dict_3)"
   ]
  },
  {
   "cell_type": "code",
   "execution_count": 15,
   "metadata": {},
   "outputs": [
    {
     "name": "stdout",
     "output_type": "stream",
     "text": [
      "peak memory: 76.58 MiB, increment: 0.04 MiB\n"
     ]
    }
   ],
   "source": [
    "%memit benchmark_1(Dict_3)"
   ]
  },
  {
   "cell_type": "markdown",
   "metadata": {},
   "source": [
    "**Выводы:**\n",
    "\n",
    "* Как и ожидалось, лучше использовать встроенный метод словаря, он значительно быстрее других решений.\n",
    "* Первый вариант с обработкой исключения работает так же или немного медленнее, чем вариант с условием\n",
    "* Не нужно явно вызывать метод `keys` у словаря при проверке наличия элемента среди его ключей\n",
    "\n"
   ]
  },
  {
   "cell_type": "markdown",
   "metadata": {},
   "source": [
    "## 2. К каждому элементу списка применить какое-либо преобразование."
   ]
  },
  {
   "cell_type": "code",
   "execution_count": 16,
   "metadata": {},
   "outputs": [],
   "source": [
    "class Benchmark_2:\n",
    "    def __init__(self, n_elems=2**17):\n",
    "        random.seed(42)\n",
    "        self.elems = list(random.uniform(-2**20, 2**20)\n",
    "                          for i in range(n_elems))\n",
    "\n",
    "    @staticmethod\n",
    "    def func(x: float):\n",
    "        '''Sample transformation function'''\n",
    "        return math.log2(math.fabs(x))\n",
    "\n",
    "    def __call__(self, transform):\n",
    "        '''It is supposed that original list won't be changed'''\n",
    "        transformed = transform(Benchmark_2.func, self.elems)\n",
    "        return transformed"
   ]
  },
  {
   "cell_type": "code",
   "execution_count": 17,
   "metadata": {},
   "outputs": [],
   "source": [
    "benchmark_2 = Benchmark_2()"
   ]
  },
  {
   "cell_type": "markdown",
   "metadata": {},
   "source": [
    "### 1.1) Цикл `for` с `append`"
   ]
  },
  {
   "cell_type": "code",
   "execution_count": 18,
   "metadata": {},
   "outputs": [
    {
     "name": "stdout",
     "output_type": "stream",
     "text": [
      "Overwriting loop_transform.py\n"
     ]
    }
   ],
   "source": [
    "%%writefile loop_transform.py\n",
    "def loop_transform(func, lst):\n",
    "    res = []\n",
    "    for item in lst:\n",
    "        res.append(func(item))\n",
    "    \n",
    "    return res"
   ]
  },
  {
   "cell_type": "code",
   "execution_count": 19,
   "metadata": {},
   "outputs": [
    {
     "name": "stdout",
     "output_type": "stream",
     "text": [
      "80.3 ms ± 5.92 ms per loop (mean ± std. dev. of 7 runs, 10 loops each)\n"
     ]
    }
   ],
   "source": [
    "%timeit benchmark_2(loop_transform)"
   ]
  },
  {
   "cell_type": "code",
   "execution_count": 20,
   "metadata": {},
   "outputs": [
    {
     "name": "stdout",
     "output_type": "stream",
     "text": [
      " "
     ]
    },
    {
     "name": "stdout",
     "output_type": "stream",
     "text": [
      "         524293 function calls in 0.310 seconds\n",
      "\n",
      "   Ordered by: internal time\n",
      "\n",
      "   ncalls  tottime  percall  cumtime  percall filename:lineno(function)\n",
      "   131072    0.099    0.000    0.195    0.000 407990253.py:7(func)\n",
      "        1    0.090    0.090    0.309    0.309 loop_transform.py:1(loop_transform)\n",
      "   131072    0.054    0.000    0.054    0.000 {built-in method math.log2}\n",
      "   131072    0.042    0.000    0.042    0.000 {built-in method math.fabs}\n",
      "   131072    0.023    0.000    0.023    0.000 {method 'append' of 'list' objects}\n",
      "        1    0.001    0.001    0.310    0.310 <string>:1(<module>)\n",
      "        1    0.000    0.000    0.310    0.310 {built-in method builtins.exec}\n",
      "        1    0.000    0.000    0.309    0.309 407990253.py:12(__call__)\n",
      "        1    0.000    0.000    0.000    0.000 {method 'disable' of '_lsprof.Profiler' objects}"
     ]
    }
   ],
   "source": [
    "%prun benchmark_2(loop_transform)"
   ]
  },
  {
   "cell_type": "code",
   "execution_count": 21,
   "metadata": {},
   "outputs": [
    {
     "name": "stdout",
     "output_type": "stream",
     "text": [
      "\n"
     ]
    },
    {
     "name": "stdout",
     "output_type": "stream",
     "text": [
      "Filename: c:\\Users\\User\\Documents\\epam\\python_mentoring\\mikhail_shchukin_python_hw\\hw3_profiling\\loop_transform.py\n",
      "\n",
      "Line #    Mem usage    Increment  Occurrences   Line Contents\n",
      "=============================================================\n",
      "     1     83.9 MiB     83.9 MiB           1   def loop_transform(func, lst):\n",
      "     2     83.9 MiB      0.0 MiB           1       res = []\n",
      "     3     85.3 MiB      0.4 MiB      131073       for item in lst:\n",
      "     4     85.3 MiB      1.1 MiB      131072           res.append(func(item))\n",
      "     5                                             \n",
      "     6     85.3 MiB      0.0 MiB           1       return res"
     ]
    }
   ],
   "source": [
    "%mprun -f loop_transform benchmark_2(loop_transform)"
   ]
  },
  {
   "cell_type": "markdown",
   "metadata": {},
   "source": [
    "### 1.2) Копирование с циклом `for`"
   ]
  },
  {
   "cell_type": "code",
   "execution_count": 22,
   "metadata": {},
   "outputs": [
    {
     "name": "stdout",
     "output_type": "stream",
     "text": [
      "Overwriting loop_transform_copy.py\n"
     ]
    }
   ],
   "source": [
    "%%writefile loop_transform_copy.py\n",
    "def loop_transform_copy(func, lst):\n",
    "    res = lst.copy()\n",
    "    for i, item in enumerate(lst):\n",
    "        res[i] = func(item)\n",
    "    \n",
    "    return res"
   ]
  },
  {
   "cell_type": "code",
   "execution_count": 23,
   "metadata": {},
   "outputs": [
    {
     "name": "stdout",
     "output_type": "stream",
     "text": [
      "82.1 ms ± 8.27 ms per loop (mean ± std. dev. of 7 runs, 10 loops each)\n"
     ]
    }
   ],
   "source": [
    "%timeit benchmark_2(loop_transform_copy)"
   ]
  },
  {
   "cell_type": "code",
   "execution_count": 24,
   "metadata": {},
   "outputs": [
    {
     "name": "stdout",
     "output_type": "stream",
     "text": [
      " "
     ]
    },
    {
     "name": "stdout",
     "output_type": "stream",
     "text": [
      "         393222 function calls in 0.247 seconds\n",
      "\n",
      "   Ordered by: internal time\n",
      "\n",
      "   ncalls  tottime  percall  cumtime  percall filename:lineno(function)\n",
      "   131072    0.093    0.000    0.183    0.000 407990253.py:7(func)\n",
      "        1    0.061    0.061    0.246    0.246 loop_transform_copy.py:1(loop_transform_copy)\n",
      "   131072    0.050    0.000    0.050    0.000 {built-in method math.log2}\n",
      "   131072    0.040    0.000    0.040    0.000 {built-in method math.fabs}\n",
      "        1    0.001    0.001    0.001    0.001 {method 'copy' of 'list' objects}\n",
      "        1    0.001    0.001    0.247    0.247 <string>:1(<module>)\n",
      "        1    0.000    0.000    0.247    0.247 {built-in method builtins.exec}\n",
      "        1    0.000    0.000    0.246    0.246 407990253.py:12(__call__)\n",
      "        1    0.000    0.000    0.000    0.000 {method 'disable' of '_lsprof.Profiler' objects}"
     ]
    }
   ],
   "source": [
    "%prun benchmark_2(loop_transform_copy)"
   ]
  },
  {
   "cell_type": "code",
   "execution_count": 25,
   "metadata": {},
   "outputs": [
    {
     "name": "stdout",
     "output_type": "stream",
     "text": [
      "\n"
     ]
    },
    {
     "name": "stdout",
     "output_type": "stream",
     "text": [
      "Filename: c:\\Users\\User\\Documents\\epam\\python_mentoring\\mikhail_shchukin_python_hw\\hw3_profiling\\loop_transform_copy.py\n",
      "\n",
      "Line #    Mem usage    Increment  Occurrences   Line Contents\n",
      "=============================================================\n",
      "     1     84.9 MiB     84.9 MiB           1   def loop_transform_copy(func, lst):\n",
      "     2     86.0 MiB      1.0 MiB           1       res = lst.copy()\n",
      "     3     86.0 MiB  -7459.7 MiB      131073       for i, item in enumerate(lst):\n",
      "     4     86.0 MiB  -7459.6 MiB      131072           res[i] = func(item)\n",
      "     5                                             \n",
      "     6     85.9 MiB     -0.1 MiB           1       return res"
     ]
    }
   ],
   "source": [
    "%mprun -f loop_transform_copy benchmark_2(loop_transform_copy)"
   ]
  },
  {
   "cell_type": "markdown",
   "metadata": {},
   "source": [
    "### 2) Функция `map`"
   ]
  },
  {
   "cell_type": "code",
   "execution_count": 26,
   "metadata": {},
   "outputs": [
    {
     "name": "stdout",
     "output_type": "stream",
     "text": [
      "434 ns ± 55 ns per loop (mean ± std. dev. of 7 runs, 1,000,000 loops each)\n"
     ]
    }
   ],
   "source": [
    "%timeit benchmark_2(map)"
   ]
  },
  {
   "cell_type": "code",
   "execution_count": 27,
   "metadata": {},
   "outputs": [
    {
     "name": "stdout",
     "output_type": "stream",
     "text": [
      " "
     ]
    },
    {
     "name": "stdout",
     "output_type": "stream",
     "text": [
      "         4 function calls in 0.000 seconds\n",
      "\n",
      "   Ordered by: internal time\n",
      "\n",
      "   ncalls  tottime  percall  cumtime  percall filename:lineno(function)\n",
      "        1    0.000    0.000    0.000    0.000 {built-in method builtins.exec}\n",
      "        1    0.000    0.000    0.000    0.000 <string>:1(<module>)\n",
      "        1    0.000    0.000    0.000    0.000 407990253.py:12(__call__)\n",
      "        1    0.000    0.000    0.000    0.000 {method 'disable' of '_lsprof.Profiler' objects}"
     ]
    }
   ],
   "source": [
    "%prun benchmark_2(map)"
   ]
  },
  {
   "cell_type": "markdown",
   "metadata": {},
   "source": [
    "### 3) Генератор"
   ]
  },
  {
   "cell_type": "code",
   "execution_count": 28,
   "metadata": {},
   "outputs": [
    {
     "name": "stdout",
     "output_type": "stream",
     "text": [
      "Overwriting gen_transform.py\n"
     ]
    }
   ],
   "source": [
    "%%writefile gen_transform.py\n",
    "def gen_transform(func, it):\n",
    "    for item in it:\n",
    "        yield func(item)"
   ]
  },
  {
   "cell_type": "code",
   "execution_count": 29,
   "metadata": {},
   "outputs": [
    {
     "name": "stdout",
     "output_type": "stream",
     "text": [
      "550 ns ± 55.8 ns per loop (mean ± std. dev. of 7 runs, 1,000,000 loops each)\n"
     ]
    }
   ],
   "source": [
    "%timeit benchmark_2(gen_transform)"
   ]
  },
  {
   "cell_type": "code",
   "execution_count": 30,
   "metadata": {},
   "outputs": [
    {
     "name": "stdout",
     "output_type": "stream",
     "text": [
      " "
     ]
    },
    {
     "name": "stdout",
     "output_type": "stream",
     "text": [
      "         524293 function calls in 0.304 seconds\n",
      "\n",
      "   Ordered by: internal time\n",
      "\n",
      "   ncalls  tottime  percall  cumtime  percall filename:lineno(function)\n",
      "   131072    0.098    0.000    0.191    0.000 407990253.py:7(func)\n",
      "        1    0.088    0.088    0.303    0.303 loop_transform.py:1(loop_transform)\n",
      "   131072    0.053    0.000    0.053    0.000 {built-in method math.log2}\n",
      "   131072    0.040    0.000    0.040    0.000 {built-in method math.fabs}\n",
      "   131072    0.025    0.000    0.025    0.000 {method 'append' of 'list' objects}\n",
      "        1    0.002    0.002    0.304    0.304 <string>:1(<module>)\n",
      "        1    0.000    0.000    0.304    0.304 {built-in method builtins.exec}\n",
      "        1    0.000    0.000    0.303    0.303 407990253.py:12(__call__)\n",
      "        1    0.000    0.000    0.000    0.000 {method 'disable' of '_lsprof.Profiler' objects}"
     ]
    }
   ],
   "source": [
    "%prun benchmark_2(loop_transform)"
   ]
  },
  {
   "cell_type": "code",
   "execution_count": 31,
   "metadata": {},
   "outputs": [
    {
     "name": "stdout",
     "output_type": "stream",
     "text": [
      "\n"
     ]
    },
    {
     "name": "stdout",
     "output_type": "stream",
     "text": [
      "Filename: c:\\Users\\User\\Documents\\epam\\python_mentoring\\mikhail_shchukin_python_hw\\hw3_profiling\\gen_transform.py\n",
      "\n",
      "Line #    Mem usage    Increment  Occurrences   Line Contents\n",
      "=============================================================\n",
      "     1     84.9 MiB     84.9 MiB           1   def gen_transform(func, it):\n",
      "     2                                             for item in it:\n",
      "     3                                                 yield func(item)"
     ]
    }
   ],
   "source": [
    "%mprun -f gen_transform benchmark_2(gen_transform)"
   ]
  },
  {
   "cell_type": "markdown",
   "metadata": {},
   "source": [
    "**Выводы:**\n",
    "* Стоит учитывать то, нужно ли изменить сам список или создать копию и каким образом должны быть доступны элементы после модификации\n",
    "* В целом, если нужно вернуть копию списка в виде списка, то лучше, похоже, скопировать его, и изменить элементы в копии, нежели создавать новый элемент и добавлять его в новый список, т.к. копирование выполняется один раз (лучше использовать метод `copy`, а не `[:]`), а `append` будет вызван для каждого элемента, и если элементов много, будет несколько вызовов для увеличения вместимости списка, хотя конечный размер нам известен\n",
    "* Если же приемлем последовательный доступ к элементам модифицированной последовательности, то лучше использовать генератор или функцию `map`, т.к. они ленивые. В данном бенчмарке не удалось проверить, какой итератор быстрее отдает значения, но `map` создала итератор быстрее"
   ]
  },
  {
   "cell_type": "markdown",
   "metadata": {},
   "source": [
    "## 3. Отсортировать список."
   ]
  },
  {
   "cell_type": "code",
   "execution_count": 32,
   "metadata": {},
   "outputs": [],
   "source": [
    "class Benchmark_3:\n",
    "    def __init__(self, n_elems=2**17):\n",
    "        random.seed(42)\n",
    "        self.sequenc_to_sort = list(range(n_elems))\n",
    "        random.shuffle(self.sequenc_to_sort)\n",
    "\n",
    "    def __call__(self, sort):\n",
    "        sorted_list = sort(self.sequenc_to_sort)\n",
    "        return sorted_list"
   ]
  },
  {
   "cell_type": "code",
   "execution_count": 33,
   "metadata": {},
   "outputs": [],
   "source": [
    "benchmark_3 = Benchmark_3()"
   ]
  },
  {
   "cell_type": "markdown",
   "metadata": {},
   "source": [
    "### 1) Встроенная функция `sorted`"
   ]
  },
  {
   "cell_type": "code",
   "execution_count": 56,
   "metadata": {},
   "outputs": [
    {
     "name": "stdout",
     "output_type": "stream",
     "text": [
      "42.9 ms ± 2.2 ms per loop (mean ± std. dev. of 7 runs, 10 loops each)\n"
     ]
    }
   ],
   "source": [
    "%timeit benchmark_3(sorted)"
   ]
  },
  {
   "cell_type": "code",
   "execution_count": 57,
   "metadata": {},
   "outputs": [
    {
     "name": "stdout",
     "output_type": "stream",
     "text": [
      " "
     ]
    },
    {
     "name": "stdout",
     "output_type": "stream",
     "text": [
      "         5 function calls in 0.077 seconds\n",
      "\n",
      "   Ordered by: internal time\n",
      "\n",
      "   ncalls  tottime  percall  cumtime  percall filename:lineno(function)\n",
      "        1    0.076    0.076    0.076    0.076 {built-in method builtins.sorted}\n",
      "        1    0.001    0.001    0.077    0.077 <string>:1(<module>)\n",
      "        1    0.000    0.000    0.077    0.077 {built-in method builtins.exec}\n",
      "        1    0.000    0.000    0.076    0.076 199360473.py:7(__call__)\n",
      "        1    0.000    0.000    0.000    0.000 {method 'disable' of '_lsprof.Profiler' objects}"
     ]
    }
   ],
   "source": [
    "%prun benchmark_3(sorted)"
   ]
  },
  {
   "cell_type": "code",
   "execution_count": 58,
   "metadata": {},
   "outputs": [
    {
     "name": "stdout",
     "output_type": "stream",
     "text": [
      "peak memory: 102.38 MiB, increment: 1.00 MiB\n"
     ]
    }
   ],
   "source": [
    "%memit benchmark_3(sorted)"
   ]
  },
  {
   "cell_type": "markdown",
   "metadata": {},
   "source": [
    "### 2) Метод списка `sort`"
   ]
  },
  {
   "cell_type": "code",
   "execution_count": 59,
   "metadata": {},
   "outputs": [],
   "source": [
    "def list_sort(lst):\n",
    "    res = list(lst)\n",
    "    res.sort()\n",
    "    return res"
   ]
  },
  {
   "cell_type": "code",
   "execution_count": 60,
   "metadata": {},
   "outputs": [
    {
     "name": "stdout",
     "output_type": "stream",
     "text": [
      "40.9 ms ± 1.33 ms per loop (mean ± std. dev. of 7 runs, 10 loops each)\n"
     ]
    }
   ],
   "source": [
    "%timeit benchmark_3(list_sort)"
   ]
  },
  {
   "cell_type": "code",
   "execution_count": 61,
   "metadata": {},
   "outputs": [
    {
     "name": "stdout",
     "output_type": "stream",
     "text": [
      " "
     ]
    },
    {
     "name": "stdout",
     "output_type": "stream",
     "text": [
      "         6 function calls in 0.076 seconds\n",
      "\n",
      "   Ordered by: internal time\n",
      "\n",
      "   ncalls  tottime  percall  cumtime  percall filename:lineno(function)\n",
      "        1    0.066    0.066    0.066    0.066 {method 'sort' of 'list' objects}\n",
      "        1    0.007    0.007    0.074    0.074 1067735932.py:1(list_sort)\n",
      "        1    0.002    0.002    0.076    0.076 <string>:1(<module>)\n",
      "        1    0.000    0.000    0.076    0.076 {built-in method builtins.exec}\n",
      "        1    0.000    0.000    0.074    0.074 199360473.py:7(__call__)\n",
      "        1    0.000    0.000    0.000    0.000 {method 'disable' of '_lsprof.Profiler' objects}"
     ]
    }
   ],
   "source": [
    "%prun benchmark_3(list_sort)"
   ]
  },
  {
   "cell_type": "code",
   "execution_count": 62,
   "metadata": {},
   "outputs": [
    {
     "name": "stdout",
     "output_type": "stream",
     "text": [
      "peak memory: 101.39 MiB, increment: 1.00 MiB\n"
     ]
    }
   ],
   "source": [
    "%memit benchmark_3(list_sort)"
   ]
  },
  {
   "cell_type": "markdown",
   "metadata": {},
   "source": [
    "**Выводы:**\n",
    "* Метод `sort` работает быстрее функции `sorted`, его стоит использовать, особенно, если нужно отсортировать список inplace."
   ]
  },
  {
   "cell_type": "markdown",
   "metadata": {},
   "source": [
    "## 4. Распаковать вложенный список."
   ]
  },
  {
   "cell_type": "code",
   "execution_count": 41,
   "metadata": {},
   "outputs": [],
   "source": [
    "def identity(x):\n",
    "    return x\n",
    "\n",
    "\n",
    "def pack(x):\n",
    "    return [x]\n",
    "\n",
    "\n",
    "def where_to_append(el, prev_l):\n",
    "    '''\n",
    "    Determines to which list to append.\n",
    "\n",
    "    :param el: Last element of outer list\n",
    "    :param prev_l: Outer list\n",
    "    :return: List to which element will be appended\n",
    "    '''\n",
    "    if not isinstance(el, list):\n",
    "        return prev_l  # prev_l is always a list\n",
    "    else:\n",
    "        return random.choice((where_to_append(el[-1], el), el))"
   ]
  },
  {
   "cell_type": "code",
   "execution_count": 42,
   "metadata": {},
   "outputs": [
    {
     "data": {
      "text/plain": [
       "[0, [1, [2], [3, [4, 5]]], [6, [7]], [8], [9], 10, [11, [12, [13]], [14]], 15]"
      ]
     },
     "execution_count": 42,
     "metadata": {},
     "output_type": "execute_result"
    }
   ],
   "source": [
    "pack_or_identity = (identity, pack, pack)\n",
    "\n",
    "ri = iter(range(2**4))\n",
    "test_list = [next(ri)]\n",
    "for i in ri:\n",
    "    wtp = where_to_append(test_list, None)\n",
    "    wtp.append(random.choice(pack_or_identity)(i))\n",
    "\n",
    "test_list"
   ]
  },
  {
   "cell_type": "code",
   "execution_count": 43,
   "metadata": {},
   "outputs": [],
   "source": [
    "class Benchmark_4:\n",
    "    def __init__(self, n_elems=2**17):\n",
    "        random.seed(42)\n",
    "        pack_or_identity = (identity, pack, pack)  # 2 packs per 1 identity\n",
    "\n",
    "        ri = iter(range(n_elems))\n",
    "        # we need at least one element in initial list so `ll[-1]` works\n",
    "        self.ll = [next(ri)]\n",
    "        for item in ri:\n",
    "            wtp = where_to_append(self.ll, None)  # ll is a list\n",
    "            wtp.append(random.choice(pack_or_identity)(item))\n",
    "\n",
    "    def __call__(self, flatten):\n",
    "        # some funcs change given list inplace\n",
    "        return flatten(copy.deepcopy(self.ll))"
   ]
  },
  {
   "cell_type": "code",
   "execution_count": 44,
   "metadata": {},
   "outputs": [],
   "source": [
    "benchmark_4 = Benchmark_4()"
   ]
  },
  {
   "cell_type": "markdown",
   "metadata": {},
   "source": [
    "### 1) Цикл `for` и слайсы"
   ]
  },
  {
   "cell_type": "code",
   "execution_count": 45,
   "metadata": {},
   "outputs": [],
   "source": [
    "def flatten(ll: list):\n",
    "    for i, item in enumerate(ll):\n",
    "        if isinstance(item, list):\n",
    "            ll[i:i+1] = flatten(item)\n",
    "    return ll"
   ]
  },
  {
   "cell_type": "code",
   "execution_count": 46,
   "metadata": {},
   "outputs": [
    {
     "data": {
      "text/plain": [
       "[0, 1, 2, 3, 4, 5, 6, 7, 8, 9, 10, 11, 12, 13, 14, 15]"
      ]
     },
     "execution_count": 46,
     "metadata": {},
     "output_type": "execute_result"
    }
   ],
   "source": [
    "flatten(copy.deepcopy(test_list))"
   ]
  },
  {
   "cell_type": "code",
   "execution_count": 47,
   "metadata": {},
   "outputs": [
    {
     "name": "stdout",
     "output_type": "stream",
     "text": [
      "1.1 s ± 156 ms per loop (mean ± std. dev. of 7 runs, 1 loop each)\n"
     ]
    }
   ],
   "source": [
    "%timeit benchmark_4(flatten)"
   ]
  },
  {
   "cell_type": "code",
   "execution_count": 48,
   "metadata": {},
   "outputs": [
    {
     "name": "stdout",
     "output_type": "stream",
     "text": [
      " "
     ]
    },
    {
     "name": "stdout",
     "output_type": "stream",
     "text": [
      "         2027494 function calls (1634621 primitive calls) in 2.215 seconds\n",
      "\n",
      "   Ordered by: internal time\n",
      "\n",
      "   ncalls  tottime  percall  cumtime  percall filename:lineno(function)\n",
      "  87268/1    0.821    0.000    0.877    0.877 4083973429.py:1(flatten)\n",
      " 218340/1    0.668    0.000    1.330    1.330 copy.py:128(deepcopy)\n",
      "  87268/1    0.272    0.000    1.330    1.330 copy.py:201(_deepcopy_list)\n",
      "   436680    0.124    0.000    0.124    0.000 {method 'get' of 'dict' objects}\n",
      "    87268    0.088    0.000    0.125    0.000 copy.py:243(_keep_alive)\n",
      "   392877    0.084    0.000    0.084    0.000 {built-in method builtins.id}\n",
      "   305606    0.062    0.000    0.062    0.000 {method 'append' of 'list' objects}\n",
      "   281111    0.056    0.000    0.056    0.000 {built-in method builtins.isinstance}\n",
      "   131072    0.030    0.000    0.030    0.000 copy.py:182(_deepcopy_atomic)\n",
      "        1    0.007    0.007    2.214    2.214 3045739282.py:13(__call__)\n",
      "        1    0.001    0.001    2.215    2.215 <string>:1(<module>)\n",
      "        1    0.000    0.000    2.215    2.215 {built-in method builtins.exec}\n",
      "        1    0.000    0.000    0.000    0.000 {method 'disable' of '_lsprof.Profiler' objects}"
     ]
    }
   ],
   "source": [
    "%prun benchmark_4(flatten)"
   ]
  },
  {
   "cell_type": "code",
   "execution_count": 49,
   "metadata": {},
   "outputs": [
    {
     "name": "stdout",
     "output_type": "stream",
     "text": [
      "peak memory: 109.76 MiB, increment: 9.63 MiB\n"
     ]
    }
   ],
   "source": [
    "%memit benchmark_4(flatten)"
   ]
  },
  {
   "cell_type": "markdown",
   "metadata": {},
   "source": [
    "### 2) Генератор"
   ]
  },
  {
   "cell_type": "code",
   "execution_count": 50,
   "metadata": {},
   "outputs": [],
   "source": [
    "def flatten_gen(ll: list):\n",
    "    for item in ll:\n",
    "        if isinstance(item, list):\n",
    "            yield from flatten_gen(item)\n",
    "        else:\n",
    "            yield item\n",
    "\n",
    "\n",
    "def flatten2(ll: list):\n",
    "    return list(flatten_gen(ll))"
   ]
  },
  {
   "cell_type": "code",
   "execution_count": 51,
   "metadata": {},
   "outputs": [
    {
     "data": {
      "text/plain": [
       "[0, 1, 2, 3, 4, 5, 6, 7, 8, 9, 10, 11, 12, 13, 14, 15]"
      ]
     },
     "execution_count": 51,
     "metadata": {},
     "output_type": "execute_result"
    }
   ],
   "source": [
    "flatten2(test_list)"
   ]
  },
  {
   "cell_type": "code",
   "execution_count": 52,
   "metadata": {},
   "outputs": [
    {
     "data": {
      "text/plain": [
       "[0, [1, [2], [3, [4, 5]]], [6, [7]], [8], [9], 10, [11, [12, [13]], [14]], 15]"
      ]
     },
     "execution_count": 52,
     "metadata": {},
     "output_type": "execute_result"
    }
   ],
   "source": [
    "test_list"
   ]
  },
  {
   "cell_type": "code",
   "execution_count": 53,
   "metadata": {},
   "outputs": [
    {
     "name": "stdout",
     "output_type": "stream",
     "text": [
      "630 ms ± 66.1 ms per loop (mean ± std. dev. of 7 runs, 1 loop each)\n"
     ]
    }
   ],
   "source": [
    "%timeit benchmark_4(flatten2)"
   ]
  },
  {
   "cell_type": "code",
   "execution_count": 54,
   "metadata": {},
   "outputs": [
    {
     "name": "stdout",
     "output_type": "stream",
     "text": [
      " "
     ]
    },
    {
     "name": "stdout",
     "output_type": "stream",
     "text": [
      "         2245834 function calls (1702922 primitive calls) in 2.215 seconds\n",
      "\n",
      "   Ordered by: internal time\n",
      "\n",
      "   ncalls  tottime  percall  cumtime  percall filename:lineno(function)\n",
      " 218340/1    0.981    0.000    1.947    1.947 copy.py:128(deepcopy)\n",
      "  87268/1    0.397    0.000    1.947    1.947 copy.py:201(_deepcopy_list)\n",
      "368379/131073    0.193    0.000    0.228    0.000 4247115795.py:1(flatten_gen)\n",
      "   436680    0.182    0.000    0.182    0.000 {method 'get' of 'dict' objects}\n",
      "    87268    0.129    0.000    0.183    0.000 copy.py:243(_keep_alive)\n",
      "   392877    0.125    0.000    0.125    0.000 {built-in method builtins.id}\n",
      "   305606    0.089    0.000    0.089    0.000 {method 'append' of 'list' objects}\n",
      "   131072    0.044    0.000    0.044    0.000 copy.py:182(_deepcopy_atomic)\n",
      "   218339    0.035    0.000    0.035    0.000 {built-in method builtins.isinstance}\n",
      "        1    0.029    0.029    0.258    0.258 4247115795.py:9(flatten2)\n",
      "        1    0.009    0.009    2.214    2.214 3045739282.py:13(__call__)\n",
      "        1    0.001    0.001    2.215    2.215 <string>:1(<module>)\n",
      "        1    0.000    0.000    2.215    2.215 {built-in method builtins.exec}\n",
      "        1    0.000    0.000    0.000    0.000 {method 'disable' of '_lsprof.Profiler' objects}"
     ]
    }
   ],
   "source": [
    "%prun benchmark_4(flatten2)"
   ]
  },
  {
   "cell_type": "code",
   "execution_count": 55,
   "metadata": {},
   "outputs": [
    {
     "name": "stdout",
     "output_type": "stream",
     "text": [
      "peak memory: 108.25 MiB, increment: 6.00 MiB\n"
     ]
    }
   ],
   "source": [
    "%memit benchmark_4(flatten2)"
   ]
  },
  {
   "cell_type": "markdown",
   "metadata": {},
   "source": [
    "**Выводы:**\n",
    "* Лучше использовать решение с генератором, т.к. оно более эффективно как по времени, так и по памяти, также его можно использовать без предварительного копирования списка"
   ]
  }
 ],
 "metadata": {
  "interpreter": {
   "hash": "8260c1d9325acd8dad958e6dd6db3d7173c38f1548bb1aae27f595717643506b"
  },
  "kernelspec": {
   "display_name": "Python 3.10.2 ('homework')",
   "language": "python",
   "name": "python3"
  },
  "language_info": {
   "codemirror_mode": {
    "name": "ipython",
    "version": 3
   },
   "file_extension": ".py",
   "mimetype": "text/x-python",
   "name": "python",
   "nbconvert_exporter": "python",
   "pygments_lexer": "ipython3",
   "version": "3.10.2"
  },
  "orig_nbformat": 4
 },
 "nbformat": 4,
 "nbformat_minor": 2
}
